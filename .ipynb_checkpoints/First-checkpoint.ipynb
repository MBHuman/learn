{
 "cells": [
  {
   "cell_type": "markdown",
   "metadata": {},
   "source": [
    "## Импортирую библиотеки"
   ]
  },
  {
   "cell_type": "markdown",
   "metadata": {},
   "source": [
    "Для этого нам понадобятся библиотеки"
   ]
  },
  {
   "cell_type": "code",
   "execution_count": 1,
   "metadata": {},
   "outputs": [],
   "source": [
    "import tensorflow as tf\n",
    "import pandas as pd\n",
    "import numpy as np\n",
    "import os\n",
    "from random import shuffle"
   ]
  },
  {
   "cell_type": "markdown",
   "metadata": {},
   "source": [
    "## Импортирую данные для обучения"
   ]
  },
  {
   "cell_type": "markdown",
   "metadata": {},
   "source": [
    "Негативные отзывы"
   ]
  },
  {
   "cell_type": "code",
   "execution_count": 2,
   "metadata": {},
   "outputs": [],
   "source": [
    "# Импортировать строки с негативными отзывами\n",
    "# Буду использовать для этого os.walk()\n",
    "\n",
    "train_neg_sentences = []\n",
    "\n",
    "train_neg_strings = os.walk('aclImdb/train/neg')\n",
    "\n",
    "for i in train_neg_strings:\n",
    "    for j in i[2]:\n",
    "        name = i[0]+'/'+j\n",
    "        file = open(name, 'r')\n",
    "        train_neg_sentences.append(file.read())\n",
    "        file.close()\n",
    "# Нам надо сделать таблицу негативных и позитивных отзывов, перемешать её и обучить модель\n",
    "# train_data = pd.DataFrame()\n",
    "# train_data.add()"
   ]
  },
  {
   "cell_type": "markdown",
   "metadata": {},
   "source": [
    "Положительные отзывы"
   ]
  },
  {
   "cell_type": "code",
   "execution_count": 3,
   "metadata": {},
   "outputs": [],
   "source": [
    "train_pos_sentences = []\n",
    "\n",
    "train_pos_strings = os.walk('aclImdb/train/pos')\n",
    "\n",
    "for i in train_pos_strings:\n",
    "    for j in i[2]:\n",
    "        name = i[0]+'/'+j\n",
    "        file = open(name, 'r')\n",
    "        train_pos_sentences.append(file.read())\n",
    "        file.close()"
   ]
  },
  {
   "cell_type": "markdown",
   "metadata": {},
   "source": [
    "Когда сделали несколько массивов с позитивными и негативными отзывами надо сделать из них таблицу и перемешать"
   ]
  },
  {
   "cell_type": "code",
   "execution_count": null,
   "metadata": {},
   "outputs": [],
   "source": [
    "train_reviews = pd.DataFrame(columns=['text', 'reviews'])\n",
    "for index in train_neg_sentences:\n",
    "    train_reviews = train_reviews.append({'text': index, 'reviews': 0}, ignore_index=True)\n",
    "for index in train_pos_sentences:\n",
    "    train_reviews = train_reviews.append({'text': index, 'reviews': 1}, ignore_index=True)"
   ]
  },
  {
   "cell_type": "code",
   "execution_count": null,
   "metadata": {},
   "outputs": [],
   "source": [
    "shuffle_train_reviews = train_reviews.sample(frac=1)\n",
    "NUMBER_OF_DATA = 25000"
   ]
  },
  {
   "cell_type": "markdown",
   "metadata": {},
   "source": [
    "Сделать то же самое с тестовыми данными"
   ]
  },
  {
   "cell_type": "code",
   "execution_count": null,
   "metadata": {},
   "outputs": [],
   "source": [
    "test_neg_sentences = []\n",
    "\n",
    "test_neg_strings = os.walk('aclImdb/test/neg')\n",
    "\n",
    "for i in test_neg_strings:\n",
    "    for j in i[2]:\n",
    "        name = i[0]+'/'+j\n",
    "        file = open(name, 'r')\n",
    "        test_neg_sentences.append(file.read())\n",
    "        file.close()"
   ]
  },
  {
   "cell_type": "code",
   "execution_count": null,
   "metadata": {},
   "outputs": [],
   "source": [
    "test_pos_sentences = []\n",
    "\n",
    "test_pos_strings = os.walk('aclImdb/test/pos')\n",
    "\n",
    "for i in test_pos_strings:\n",
    "    for j in i[2]:\n",
    "        name = i[0]+'/'+j\n",
    "        file = open(name, 'r')\n",
    "        test_pos_sentences.append(file.read())\n",
    "        file.close()"
   ]
  },
  {
   "cell_type": "code",
   "execution_count": null,
   "metadata": {},
   "outputs": [],
   "source": [
    "test_reviews = pd.DataFrame(columns=['text', 'reviews'])\n",
    "for index in test_neg_sentences:\n",
    "    test_reviews = test_reviews.append({'text': index, 'reviews': 0}, ignore_index=True)\n",
    "for index in pos_sentences:\n",
    "    test_reviews = test_reviews.append({'text': index, 'reviews': 1}, ignore_index=True)"
   ]
  },
  {
   "cell_type": "code",
   "execution_count": null,
   "metadata": {},
   "outputs": [],
   "source": [
    "shuffle_test_reviews = test_reviews.sample(frac=1)"
   ]
  },
  {
   "cell_type": "markdown",
   "metadata": {},
   "source": [
    "Сделать модель которая обучится оценивать отызвы по тексту"
   ]
  },
  {
   "cell_type": "code",
   "execution_count": null,
   "metadata": {},
   "outputs": [],
   "source": [
    "shuffle_reviews.plot()"
   ]
  },
  {
   "cell_type": "code",
   "execution_count": null,
   "metadata": {},
   "outputs": [],
   "source": [
    "def model():\n",
    "    model = tf.keras.models.Sequential([\n",
    "        keras.layers.Dense(512, activation='relu', input_shape=(NUMBER_OF_DATA,)),\n",
    "        keras.layers.Dropout(0.2),\n",
    "        keras.layers.Dense(10, activation='softmax')\n",
    "    ])\n",
    "    model.compile(optimizer='adam',\n",
    "                loss='sparse_categorical_crossentropy',\n",
    "                metrics=['accuracy'])\n",
    "    return model\n",
    "\n",
    "\n",
    "train_model = model.fit()"
   ]
  }
 ],
 "metadata": {
  "kernelspec": {
   "display_name": "Python 3",
   "language": "python",
   "name": "python3"
  },
  "language_info": {
   "codemirror_mode": {
    "name": "ipython",
    "version": 3
   },
   "file_extension": ".py",
   "mimetype": "text/x-python",
   "name": "python",
   "nbconvert_exporter": "python",
   "pygments_lexer": "ipython3",
   "version": "3.7.6"
  }
 },
 "nbformat": 4,
 "nbformat_minor": 4
}
